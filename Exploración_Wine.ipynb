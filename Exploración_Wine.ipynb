{
  "nbformat": 4,
  "nbformat_minor": 0,
  "metadata": {
    "colab": {
      "provenance": []
    },
    "kernelspec": {
      "name": "python3",
      "display_name": "Python 3"
    },
    "language_info": {
      "name": "python"
    }
  },
  "cells": [
    {
      "cell_type": "code",
      "source": [
        "from sklearn.datasets import load_wine\n",
        "from sklearn.linear_model import LinearRegression\n",
        "from sklearn.metrics import r2_score, mean_squared_error, mean_absolute_error\n",
        "\n",
        "# 1. Cargar el dataset de Wine\n",
        "datos = load_wine()\n",
        "\n",
        "X = datos.data[:, 1:] # Todas las características excepto la primera\n",
        "Y = datos.data[:, 0]  # La primera característica ('Alcohol') como objetivo (Y)\n",
        "\n",
        "# 2. Definir el modelo\n",
        "LR = LinearRegression()\n",
        "\n",
        "# 3. Entrenar el modelo con el 100% de los datos\n",
        "LR.fit(X, Y)\n",
        "\n",
        "# 4. Realizar predicciones sobre el mismo 100% de los datos\n",
        "Y_pred = LR.predict(X)\n",
        "\n",
        "# 5. Calcular las métricas\n",
        "r2 = r2_score(Y, Y_pred)\n",
        "mse = mean_squared_error(Y, Y_pred)\n",
        "mae = mean_absolute_error(Y, Y_pred)\n",
        "\n",
        "# 6. Imprimir los resultados con la nueva etiqueta de \"Exploración\"\n",
        "print(\"---------------------------------------------------------------\")\n",
        "print(\"Resultados de Regresión Lineal en el dataset Wine (Fase de Exploración):\")\n",
        "print(\"---------------------------------------------------------------\")\n",
        "print(f\"R² (R al cuadrado)    : {r2:.4f}\")\n",
        "print(f\"MSE (Error Cuadrático Medio) : {mse:.4f}\")\n",
        "print(f\"MAE (Error Absoluto Medio)   : {mae:.4f}\")\n",
        "print(\"---------------------------------------------------------------\")"
      ],
      "metadata": {
        "colab": {
          "base_uri": "https://localhost:8080/"
        },
        "id": "IRHnZzqbgKwj",
        "outputId": "d9ea5bef-4c5e-400e-a163-f22660b2427c"
      },
      "execution_count": 2,
      "outputs": [
        {
          "output_type": "stream",
          "name": "stdout",
          "text": [
            "---------------------------------------------------------------\n",
            "Resultados de Regresión Lineal en el dataset Wine (Fase de Exploración):\n",
            "---------------------------------------------------------------\n",
            "R² (R al cuadrado)    : 0.5936\n",
            "MSE (Error Cuadrático Medio) : 0.2664\n",
            "MAE (Error Absoluto Medio)   : 0.4083\n",
            "---------------------------------------------------------------\n"
          ]
        }
      ]
    }
  ]
}