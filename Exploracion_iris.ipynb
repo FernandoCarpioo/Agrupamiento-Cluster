{
  "nbformat": 4,
  "nbformat_minor": 0,
  "metadata": {
    "colab": {
      "provenance": []
    },
    "kernelspec": {
      "name": "python3",
      "display_name": "Python 3"
    },
    "language_info": {
      "name": "python"
    }
  },
  "cells": [
    {
      "cell_type": "code",
      "execution_count": 1,
      "metadata": {
        "colab": {
          "base_uri": "https://localhost:8080/"
        },
        "id": "D_ovwRJ3h1rX",
        "outputId": "24276270-8d4e-4029-d7a1-2f9e16f73fed"
      },
      "outputs": [
        {
          "output_type": "stream",
          "name": "stdout",
          "text": [
            "---------------------------------------------------------------\n",
            "Resultados de Regresión Lineal en el dataset Iris (Fase de Exploración):\n",
            "---------------------------------------------------------------\n",
            "R² (R al cuadrado)    : 0.9304\n",
            "MSE (Error Cuadrático Medio) : 0.0464\n",
            "MAE (Error Absoluto Medio)   : 0.1653\n",
            "---------------------------------------------------------------\n"
          ]
        }
      ],
      "source": [
        "from sklearn.datasets import load_iris\n",
        "from sklearn.linear_model import LinearRegression\n",
        "from sklearn.metrics import r2_score, mean_squared_error, mean_absolute_error\n",
        "\n",
        "# 1. Cargar el dataset Iris\n",
        "datos = load_iris()\n",
        "\n",
        "X = datos.data\n",
        "Y = datos.target\n",
        "\n",
        "# 2. Definir el modelo\n",
        "LR = LinearRegression()\n",
        "\n",
        "# 3. Entrenar el modelo con el 100% de los datos\n",
        "LR.fit(X, Y)\n",
        "\n",
        "# 4. Realizar predicciones sobre el mismo 100% de los datos\n",
        "Y_pred = LR.predict(X)\n",
        "\n",
        "# 5. Calcular las métricas\n",
        "r2 = r2_score(Y, Y_pred)\n",
        "mse = mean_squared_error(Y, Y_pred)\n",
        "mae = mean_absolute_error(Y, Y_pred)\n",
        "\n",
        "# 6. Imprimir los resultados\n",
        "print(\"---------------------------------------------------------------\")\n",
        "print(\"Resultados de Regresión Lineal en el dataset Iris (Fase de Exploración):\")\n",
        "print(\"---------------------------------------------------------------\")\n",
        "print(f\"R² (R al cuadrado)    : {r2:.4f}\")\n",
        "print(f\"MSE (Error Cuadrático Medio) : {mse:.4f}\")\n",
        "print(f\"MAE (Error Absoluto Medio)   : {mae:.4f}\")\n",
        "print(\"---------------------------------------------------------------\")"
      ]
    }
  ]
}