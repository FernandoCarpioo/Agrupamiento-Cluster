{
  "nbformat": 4,
  "nbformat_minor": 0,
  "metadata": {
    "colab": {
      "provenance": []
    },
    "kernelspec": {
      "name": "python3",
      "display_name": "Python 3"
    },
    "language_info": {
      "name": "python"
    }
  },
  "cells": [
    {
      "cell_type": "code",
      "execution_count": 1,
      "metadata": {
        "colab": {
          "base_uri": "https://localhost:8080/"
        },
        "id": "51xmhktxg9qW",
        "outputId": "7aabeee3-c3a6-4851-fd9f-ddcc693060d0"
      },
      "outputs": [
        {
          "output_type": "stream",
          "name": "stdout",
          "text": [
            "----------------------------------------------------------------------\n",
            "Resultados de Regresión Lineal en el dataset Breast Cancer (Fase de Exploración):\n",
            "----------------------------------------------------------------------\n",
            "R² (R al cuadrado)    : 0.7743\n",
            "MSE (Error Cuadrático Medio) : 0.0528\n",
            "MAE (Error Absoluto Medio)   : 0.1806\n",
            "----------------------------------------------------------------------\n"
          ]
        }
      ],
      "source": [
        "from sklearn.datasets import load_breast_cancer\n",
        "from sklearn.linear_model import LinearRegression\n",
        "from sklearn.metrics import r2_score, mean_squared_error, mean_absolute_error\n",
        "\n",
        "# 1. Cargar el dataset Breast Cancer\n",
        "datos = load_breast_cancer()\n",
        "\n",
        "# Asignar todas las características a X y la variable objetivo (0 o 1) a Y\n",
        "X = datos.data\n",
        "Y = datos.target\n",
        "\n",
        "# 2. Definir el modelo\n",
        "LR = LinearRegression()\n",
        "\n",
        "# 3. Entrenar el modelo con el 100% de los datos\n",
        "LR.fit(X, Y)\n",
        "\n",
        "Y_pred = LR.predict(X)\n",
        "\n",
        "# 4. Calcular las métricas\n",
        "r2 = r2_score(Y, Y_pred)\n",
        "mse = mean_squared_error(Y, Y_pred)\n",
        "mae = mean_absolute_error(Y, Y_pred)\n",
        "\n",
        "# 5. Imprimir los resultados\n",
        "print(\"----------------------------------------------------------------------\")\n",
        "print(\"Resultados de Regresión Lineal en el dataset Breast Cancer (Fase de Exploración):\")\n",
        "print(\"----------------------------------------------------------------------\")\n",
        "print(f\"R² (R al cuadrado)    : {r2:.4f}\")\n",
        "print(f\"MSE (Error Cuadrático Medio) : {mse:.4f}\")\n",
        "print(f\"MAE (Error Absoluto Medio)   : {mae:.4f}\")\n",
        "print(\"----------------------------------------------------------------------\")"
      ]
    }
  ]
}